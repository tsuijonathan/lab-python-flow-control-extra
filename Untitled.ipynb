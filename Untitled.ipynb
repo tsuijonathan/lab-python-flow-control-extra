{
 "cells": [
  {
   "cell_type": "code",
   "execution_count": 2,
   "id": "832939a5-9310-4d8b-b1e8-61374ee19075",
   "metadata": {},
   "outputs": [
    {
     "name": "stdout",
     "output_type": "stream",
     "text": [
      "Welcome to the Haunted Mansion!\n"
     ]
    },
    {
     "name": "stdin",
     "output_type": "stream",
     "text": [
      "\n",
      "You are at a fork in the path. Do you go left, right, or straight? (l/r/s):  l\n"
     ]
    },
    {
     "name": "stdout",
     "output_type": "stream",
     "text": [
      "You found a dusty chest with a potion!\n",
      "You picked up a potion!\n"
     ]
    },
    {
     "name": "stdin",
     "output_type": "stream",
     "text": [
      "\n",
      "You are at a fork in the path. Do you go left, right, or straight? (l/r/s):  r\n"
     ]
    },
    {
     "name": "stdout",
     "output_type": "stream",
     "text": [
      "You enter a room full of eerie sounds...\n",
      "\n",
      "A ghost appears!\n",
      "The ghost overcame you... health decreases by 1.\n",
      "Your health is now 9.\n"
     ]
    },
    {
     "name": "stdin",
     "output_type": "stream",
     "text": [
      "\n",
      "You are at a fork in the path. Do you go left, right, or straight? (l/r/s):  s\n"
     ]
    },
    {
     "name": "stdout",
     "output_type": "stream",
     "text": [
      "You found a wand on the floor!\n",
      "You picked up a wand!\n"
     ]
    },
    {
     "name": "stdin",
     "output_type": "stream",
     "text": [
      "\n",
      "You are at a fork in the path. Do you go left, right, or straight? (l/r/s):  s\n"
     ]
    },
    {
     "name": "stdout",
     "output_type": "stream",
     "text": [
      "You found a wand on the floor!\n"
     ]
    },
    {
     "name": "stdin",
     "output_type": "stream",
     "text": [
      "\n",
      "You are at a fork in the path. Do you go left, right, or straight? (l/r/s):  l\n"
     ]
    },
    {
     "name": "stdout",
     "output_type": "stream",
     "text": [
      "You found a dusty chest with a potion!\n",
      "\n",
      "A ghost appears!\n",
      "You wield your wand!\n",
      "You defeated the ghost!\n"
     ]
    },
    {
     "name": "stdin",
     "output_type": "stream",
     "text": [
      "\n",
      "You are at a fork in the path. Do you go left, right, or straight? (l/r/s):  r\n"
     ]
    },
    {
     "name": "stdout",
     "output_type": "stream",
     "text": [
      "You enter a room full of eerie sounds...\n",
      "\n",
      "A ghost appears!\n",
      "You wield your wand!\n",
      "You defeated the ghost!\n"
     ]
    },
    {
     "name": "stdin",
     "output_type": "stream",
     "text": [
      "\n",
      "You are at a fork in the path. Do you go left, right, or straight? (l/r/s):  l\n"
     ]
    },
    {
     "name": "stdout",
     "output_type": "stream",
     "text": [
      "You found a dusty chest with a potion!\n"
     ]
    },
    {
     "name": "stdin",
     "output_type": "stream",
     "text": [
      "\n",
      "You are at a fork in the path. Do you go left, right, or straight? (l/r/s):  s\n"
     ]
    },
    {
     "name": "stdout",
     "output_type": "stream",
     "text": [
      "You found a wand on the floor!\n",
      "\n",
      "A ghost appears!\n",
      "You wield your wand!\n",
      "You defeated the ghost!\n"
     ]
    },
    {
     "name": "stdin",
     "output_type": "stream",
     "text": [
      "\n",
      "You are at a fork in the path. Do you go left, right, or straight? (l/r/s):  s\n"
     ]
    },
    {
     "name": "stdout",
     "output_type": "stream",
     "text": [
      "You found a wand on the floor!\n",
      "\n",
      "A ghost appears!\n",
      "You wield your wand!\n",
      "You defeated the ghost!\n"
     ]
    },
    {
     "name": "stdin",
     "output_type": "stream",
     "text": [
      "\n",
      "You are at a fork in the path. Do you go left, right, or straight? (l/r/s):  s\n"
     ]
    },
    {
     "name": "stdout",
     "output_type": "stream",
     "text": [
      "You found a wand on the floor!\n"
     ]
    },
    {
     "name": "stdin",
     "output_type": "stream",
     "text": [
      "\n",
      "You are at a fork in the path. Do you go left, right, or straight? (l/r/s):  s\n"
     ]
    },
    {
     "name": "stdout",
     "output_type": "stream",
     "text": [
      "You found a wand on the floor!\n"
     ]
    },
    {
     "name": "stdin",
     "output_type": "stream",
     "text": [
      "\n",
      "You are at a fork in the path. Do you go left, right, or straight? (l/r/s):  s\n"
     ]
    },
    {
     "name": "stdout",
     "output_type": "stream",
     "text": [
      "You found a wand on the floor!\n"
     ]
    },
    {
     "name": "stdin",
     "output_type": "stream",
     "text": [
      "\n",
      "You are at a fork in the path. Do you go left, right, or straight? (l/r/s):  s\n"
     ]
    },
    {
     "name": "stdout",
     "output_type": "stream",
     "text": [
      "You found a wand on the floor!\n",
      "\n",
      "A ghost appears!\n",
      "You wield your wand!\n",
      "You defeated the ghost!\n"
     ]
    },
    {
     "name": "stdin",
     "output_type": "stream",
     "text": [
      "\n",
      "You are at a fork in the path. Do you go left, right, or straight? (l/r/s):  l\n"
     ]
    },
    {
     "name": "stdout",
     "output_type": "stream",
     "text": [
      "You found a dusty chest with a potion!\n"
     ]
    },
    {
     "name": "stdin",
     "output_type": "stream",
     "text": [
      "\n",
      "You are at a fork in the path. Do you go left, right, or straight? (l/r/s):  r\n"
     ]
    },
    {
     "name": "stdout",
     "output_type": "stream",
     "text": [
      "You enter a room full of eerie sounds...\n",
      "\n",
      "A ghost appears!\n",
      "You wield your wand!\n",
      "You defeated the ghost!\n"
     ]
    },
    {
     "name": "stdin",
     "output_type": "stream",
     "text": [
      "\n",
      "You are at a fork in the path. Do you go left, right, or straight? (l/r/s):  l\n"
     ]
    },
    {
     "name": "stdout",
     "output_type": "stream",
     "text": [
      "You found a dusty chest with a potion!\n",
      "\n",
      "A ghost appears!\n",
      "You wield your wand!\n",
      "You defeated the ghost!\n"
     ]
    },
    {
     "name": "stdin",
     "output_type": "stream",
     "text": [
      "\n",
      "You are at a fork in the path. Do you go left, right, or straight? (l/r/s):  rl\n"
     ]
    },
    {
     "name": "stdout",
     "output_type": "stream",
     "text": [
      "Invalid choice. Try again.\n"
     ]
    },
    {
     "name": "stdin",
     "output_type": "stream",
     "text": [
      "\n",
      "You are at a fork in the path. Do you go left, right, or straight? (l/r/s):  r\n"
     ]
    },
    {
     "name": "stdout",
     "output_type": "stream",
     "text": [
      "You enter a room full of eerie sounds...\n",
      "\n",
      "A ghost appears!\n",
      "You wield your wand!\n",
      "You defeated the ghost!\n"
     ]
    },
    {
     "name": "stdin",
     "output_type": "stream",
     "text": [
      "\n",
      "You are at a fork in the path. Do you go left, right, or straight? (l/r/s):  r\n"
     ]
    },
    {
     "name": "stdout",
     "output_type": "stream",
     "text": [
      "You enter a room full of eerie sounds...\n",
      "\n",
      "A ghost appears!\n",
      "You wield your wand!\n",
      "You defeated the ghost!\n",
      "\n",
      "A ghost appears!\n",
      "You wield your wand!\n",
      "You defeated the ghost!\n"
     ]
    },
    {
     "name": "stdin",
     "output_type": "stream",
     "text": [
      "\n",
      "You are at a fork in the path. Do you go left, right, or straight? (l/r/s):  r\n"
     ]
    },
    {
     "name": "stdout",
     "output_type": "stream",
     "text": [
      "You enter a room full of eerie sounds...\n",
      "\n",
      "A ghost appears!\n",
      "You wield your wand!\n",
      "The ghost overcame you... health decreases by 1.\n",
      "Your health is now 8.\n"
     ]
    },
    {
     "name": "stdin",
     "output_type": "stream",
     "text": [
      "\n",
      "You are at a fork in the path. Do you go left, right, or straight? (l/r/s):  r\n"
     ]
    },
    {
     "name": "stdout",
     "output_type": "stream",
     "text": [
      "You enter a room full of eerie sounds...\n",
      "\n",
      "A ghost appears!\n",
      "You wield your wand!\n",
      "You defeated the ghost!\n"
     ]
    },
    {
     "name": "stdin",
     "output_type": "stream",
     "text": [
      "\n",
      "You are at a fork in the path. Do you go left, right, or straight? (l/r/s):  r\n"
     ]
    },
    {
     "name": "stdout",
     "output_type": "stream",
     "text": [
      "You enter a room full of eerie sounds...\n",
      "\n",
      "A ghost appears!\n",
      "You wield your wand!\n",
      "The ghost overcame you... health decreases by 1.\n",
      "Your health is now 7.\n"
     ]
    },
    {
     "name": "stdin",
     "output_type": "stream",
     "text": [
      "\n",
      "You are at a fork in the path. Do you go left, right, or straight? (l/r/s):  r\n"
     ]
    },
    {
     "name": "stdout",
     "output_type": "stream",
     "text": [
      "You enter a room full of eerie sounds...\n",
      "\n",
      "A ghost appears!\n",
      "You wield your wand!\n",
      "You defeated the ghost!\n",
      "\n",
      "A ghost appears!\n",
      "You wield your wand!\n",
      "You defeated the ghost!\n"
     ]
    },
    {
     "name": "stdin",
     "output_type": "stream",
     "text": [
      "\n",
      "You are at a fork in the path. Do you go left, right, or straight? (l/r/s):  r\n"
     ]
    },
    {
     "name": "stdout",
     "output_type": "stream",
     "text": [
      "You enter a room full of eerie sounds...\n",
      "\n",
      "A ghost appears!\n",
      "You wield your wand!\n",
      "The ghost overcame you... health decreases by 1.\n",
      "Your health is now 6.\n"
     ]
    },
    {
     "name": "stdin",
     "output_type": "stream",
     "text": [
      "\n",
      "You are at a fork in the path. Do you go left, right, or straight? (l/r/s):  r\n"
     ]
    },
    {
     "name": "stdout",
     "output_type": "stream",
     "text": [
      "You enter a room full of eerie sounds...\n",
      "\n",
      "A ghost appears!\n",
      "You wield your wand!\n",
      "You defeated the ghost!\n"
     ]
    },
    {
     "name": "stdin",
     "output_type": "stream",
     "text": [
      "\n",
      "You are at a fork in the path. Do you go left, right, or straight? (l/r/s):  r\n"
     ]
    },
    {
     "name": "stdout",
     "output_type": "stream",
     "text": [
      "You enter a room full of eerie sounds...\n",
      "\n",
      "A ghost appears!\n",
      "You wield your wand!\n",
      "You defeated the ghost!\n",
      "\n",
      "A ghost appears!\n",
      "You wield your wand!\n",
      "You defeated the ghost!\n"
     ]
    },
    {
     "name": "stdin",
     "output_type": "stream",
     "text": [
      "\n",
      "You are at a fork in the path. Do you go left, right, or straight? (l/r/s):  r\n"
     ]
    },
    {
     "name": "stdout",
     "output_type": "stream",
     "text": [
      "You enter a room full of eerie sounds...\n",
      "\n",
      "A ghost appears!\n",
      "You wield your wand!\n",
      "You defeated the ghost!\n"
     ]
    },
    {
     "name": "stdin",
     "output_type": "stream",
     "text": [
      "\n",
      "You are at a fork in the path. Do you go left, right, or straight? (l/r/s):  r\n"
     ]
    },
    {
     "name": "stdout",
     "output_type": "stream",
     "text": [
      "You enter a room full of eerie sounds...\n",
      "\n",
      "A ghost appears!\n",
      "You wield your wand!\n",
      "You defeated the ghost!\n",
      "\n",
      "A ghost appears!\n",
      "You wield your wand!\n",
      "You defeated the ghost!\n"
     ]
    },
    {
     "name": "stdin",
     "output_type": "stream",
     "text": [
      "\n",
      "You are at a fork in the path. Do you go left, right, or straight? (l/r/s):  r\n"
     ]
    },
    {
     "name": "stdout",
     "output_type": "stream",
     "text": [
      "You enter a room full of eerie sounds...\n",
      "\n",
      "A ghost appears!\n",
      "You wield your wand!\n",
      "The ghost overcame you... health decreases by 1.\n",
      "Your health is now 5.\n"
     ]
    },
    {
     "name": "stdin",
     "output_type": "stream",
     "text": [
      "\n",
      "You are at a fork in the path. Do you go left, right, or straight? (l/r/s):  r\n"
     ]
    },
    {
     "name": "stdout",
     "output_type": "stream",
     "text": [
      "You enter a room full of eerie sounds...\n",
      "\n",
      "A ghost appears!\n",
      "You wield your wand!\n",
      "You defeated the ghost!\n",
      "\n",
      "Congratulations! You found the hidden treasure in the mansion!\n"
     ]
    }
   ],
   "source": [
    "import random\n",
    "\n",
    "# Player’s initial attributes\n",
    "health = 10  # The player starts with 10 health points\n",
    "inventory = []  # Items collected by the player\n",
    "\n",
    "# Function to handle ghost encounters\n",
    "def encounter_ghost():\n",
    "    global health\n",
    "    print(\"\\nA ghost appears!\")\n",
    "    \n",
    "    # Random outcome for ghost encounter\n",
    "    random_number = random.randint(1, 10)\n",
    "    \n",
    "    # Check if the player has a wand to increase chances of defeating the ghost\n",
    "    if 'wand' in inventory:\n",
    "        print(\"You wield your wand!\")\n",
    "        # Player wins if the random number is between 1-7 with the wand\n",
    "        if random_number <= 7:\n",
    "            print(\"You defeated the ghost!\")\n",
    "            return True  # Victory\n",
    "        else:\n",
    "            health -= 1\n",
    "            print(\"The ghost overcame you... health decreases by 1.\")\n",
    "    else:\n",
    "        # Without a wand, the player only wins if the number is between 1-5\n",
    "        if random_number <= 5:\n",
    "            print(\"You defeated the ghost!\")\n",
    "            return True\n",
    "        else:\n",
    "            health -= 1\n",
    "            print(\"The ghost overcame you... health decreases by 1.\")\n",
    "    \n",
    "    # Check if the player still has health\n",
    "    if health <= 0:\n",
    "        print(\"You have no health left. Game Over!\")\n",
    "        return False\n",
    "    else:\n",
    "        print(f\"Your health is now {health}.\")\n",
    "        return False\n",
    "\n",
    "# Main game function to explore the mansion\n",
    "def run_mansion():\n",
    "    global health\n",
    "    print(\"Welcome to the Haunted Mansion!\")\n",
    "    \n",
    "    # Adding a loop to continue the adventure while health is above zero\n",
    "    while health > 0:\n",
    "        # Present choices at each intersection\n",
    "        choice = input(\"\\nYou are at a fork in the path. Do you go left, right, or straight? (l/r/s): \").lower()\n",
    "        \n",
    "        # Encounter based on choice\n",
    "        if choice == 'l':\n",
    "            print(\"You found a dusty chest with a potion!\")\n",
    "            if \"potion\" not in inventory:\n",
    "                inventory.append(\"potion\")\n",
    "                print(\"You picked up a potion!\")\n",
    "        elif choice == 'r':\n",
    "            print(\"You enter a room full of eerie sounds...\")\n",
    "            if encounter_ghost() == False:  # Ghost encounter with a chance to lose health\n",
    "                continue\n",
    "        elif choice == 's':\n",
    "            print(\"You found a wand on the floor!\")\n",
    "            if \"wand\" not in inventory:\n",
    "                inventory.append(\"wand\")\n",
    "                print(\"You picked up a wand!\")\n",
    "        else:\n",
    "            print(\"Invalid choice. Try again.\")\n",
    "            continue\n",
    "        \n",
    "        # Random events to add dynamic challenges\n",
    "        if random.choice([True, False]):  # 50% chance of a new encounter\n",
    "            if encounter_ghost() == False:\n",
    "                continue\n",
    "        \n",
    "        # Check if health is zero\n",
    "        if health <= 0:\n",
    "            print(\"You have lost all health. Game Over!\")\n",
    "            break\n",
    "        \n",
    "        # Check if the player finds the treasure\n",
    "        treasure_chance = random.randint(1, 10)\n",
    "        if treasure_chance == 1:  # 10% chance of finding the treasure each round\n",
    "            print(\"\\nCongratulations! You found the hidden treasure in the mansion!\")\n",
    "            break\n",
    "\n",
    "# Run the game\n",
    "run_mansion()"
   ]
  },
  {
   "cell_type": "code",
   "execution_count": null,
   "id": "6d99d93e-b96f-42c3-b1ec-c34b5e0a3a85",
   "metadata": {},
   "outputs": [],
   "source": []
  }
 ],
 "metadata": {
  "kernelspec": {
   "display_name": "Python 3 (ipykernel)",
   "language": "python",
   "name": "python3"
  },
  "language_info": {
   "codemirror_mode": {
    "name": "ipython",
    "version": 3
   },
   "file_extension": ".py",
   "mimetype": "text/x-python",
   "name": "python",
   "nbconvert_exporter": "python",
   "pygments_lexer": "ipython3",
   "version": "3.12.4"
  }
 },
 "nbformat": 4,
 "nbformat_minor": 5
}
